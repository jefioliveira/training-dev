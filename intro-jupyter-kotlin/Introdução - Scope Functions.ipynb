{
 "cells": [
  {
   "cell_type": "markdown",
   "metadata": {},
   "source": [
    "Essse documento foi criado para aprofundarmos os nossos conhecimentos sobre as funções de escopo presentes nas linguagens de programação Phyton e Kotlin.\n",
    "\n",
    "Material de Referência\n",
    "\n",
    "* https://kotlinfrompython.com/2019/08/19/withuseletapplyalsorun/\n",
    "* https://kotlinlang.org/docs/reference/scope-functions.html#also"
   ]
  },
  {
   "cell_type": "markdown",
   "metadata": {},
   "source": [
    "1. Apresente 3 propostas de uso para as funções listadas."
   ]
  },
  {
   "cell_type": "code",
   "execution_count": null,
   "metadata": {},
   "outputs": [],
   "source": []
  },
  {
   "cell_type": "markdown",
   "metadata": {},
   "source": [
    "2. Apresente uma diferença entre as funções presentes no Kotlin e no Python."
   ]
  },
  {
   "cell_type": "code",
   "execution_count": null,
   "metadata": {},
   "outputs": [],
   "source": []
  },
  {
   "cell_type": "markdown",
   "metadata": {},
   "source": [
    "3. Dado o codigo abaixo, qual será o retorno de cada expressão?"
   ]
  },
  {
   "cell_type": "code",
   "execution_count": 25,
   "metadata": {},
   "outputs": [
    {
     "name": "stdout",
     "output_type": "stream",
     "text": [
      "The receiver string's length is 5\n",
      "The receiver string's length is 5\n",
      "The receiver string's length is 5\n"
     ]
    }
   ],
   "source": [
    "fun main() {\n",
    "    val str = \"Hello\"\n",
    "    str.run {\n",
    "        println(\"The receiver string's length is ${length}\")\n",
    "    \n",
    "    }\n",
    "    str.let {\n",
    "        println(\"The receiver string's length is ${it.length}\")\n",
    "    }\n",
    "    \n",
    "    str.also {\n",
    "        println(\"The receiver string's length is ${it.length}\")\n",
    "    }\n",
    "}\n",
    "main()"
   ]
  },
  {
   "cell_type": "code",
   "execution_count": null,
   "metadata": {},
   "outputs": [],
   "source": []
  },
  {
   "cell_type": "code",
   "execution_count": null,
   "metadata": {},
   "outputs": [],
   "source": []
  }
 ],
 "metadata": {
  "kernelspec": {
   "display_name": "Kotlin",
   "language": "kotlin",
   "name": "kotlin"
  },
  "language_info": {
   "codemirror_mode": "text/x-kotlin",
   "file_extension": "kt",
   "name": "kotlin"
  }
 },
 "nbformat": 4,
 "nbformat_minor": 2
}
