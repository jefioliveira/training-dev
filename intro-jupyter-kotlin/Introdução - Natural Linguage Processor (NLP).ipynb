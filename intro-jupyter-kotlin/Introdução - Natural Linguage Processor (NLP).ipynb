{
 "cells": [
  {
   "cell_type": "markdown",
   "metadata": {},
   "source": [
    "## Introdução - Processamento de linguagem natural"
   ]
  },
  {
   "cell_type": "markdown",
   "metadata": {},
   "source": [
    "Para termos mais contexto sobre o tema apresentado, abaixo descrevo com brevidade é processamento de liguagem natural."
   ]
  },
  {
   "cell_type": "raw",
   "metadata": {},
   "source": [
    "\"Processamento de língua natural é uma subárea da ciência da computação, inteligência artificial e da linguística que estuda os problemas da geração e compreensão automática de línguas humanas naturais.\" -> Fonte \"Wikipédia\"\n",
    "\n",
    "\"O processamento de linguagem natural (PNL) é um ramo da inteligência artificial que ajuda os computadores a entender, interpretar e manipular a linguagem humana.\" -> Fonte \"SaS\"\n",
    "\n",
    "\"As primeiras tentativas de NLP foram feitas com o intuito de relacionar palavras entre idiomas, o que hoje é feito o tempo todo pelos tradutores automáticos disponíveis na web, por exemplo, que aprendem e melhoram seus resultados diariamente com o uso de Aprendizado de Máquina e Inteligência Artificial.\" -> Fonte \"IBM\"\n",
    "\n",
    "\"NLP é uma abreviação de uma ampla variedade de técnicas projetadas para ajudar as máquinas a aprender com o texto. O Processamento de linguagem natural fornece tudo, de chatbots a mecanismos de pesquisa, e é usado em diversas tarefas, como análise de sentimentos e tradução automática.\" -> Fonte \"kaggle\""
   ]
  },
  {
   "cell_type": "markdown",
   "metadata": {},
   "source": [
    "https://nlpforhackers.io/keras-intro/\n",
    "https://www.kaggle.com/philculliton/nlp-getting-started-tutorial\n",
    "https://towardsdatascience.com/deep-learning-for-nlp-creating-a-chatbot-with-keras-da5ca051e051\n",
    "https://www.sas.com/pt_br/insights/analytics/processamento-de-linguagem-natural.html\n",
    "https://www.ibm.com/developerworks/br/library/natural-language-processing-um-pouco-de-historia/index.html"
   ]
  }
 ],
 "metadata": {
  "kernelspec": {
   "display_name": "Python 3",
   "language": "python",
   "name": "python3"
  },
  "language_info": {
   "codemirror_mode": {
    "name": "ipython",
    "version": 3
   },
   "file_extension": ".py",
   "mimetype": "text/x-python",
   "name": "python",
   "nbconvert_exporter": "python",
   "pygments_lexer": "ipython3",
   "version": "3.7.5"
  }
 },
 "nbformat": 4,
 "nbformat_minor": 2
}
